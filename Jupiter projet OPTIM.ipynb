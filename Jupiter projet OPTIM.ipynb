{
 "cells": [
  {
   "cell_type": "markdown",
   "id": "bf56cd37",
   "metadata": {},
   "source": [
    "# Définition du modèle de base"
   ]
  },
  {
   "cell_type": "code",
   "execution_count": 1,
   "id": "7898e7e2",
   "metadata": {
    "scrolled": false
   },
   "outputs": [
    {
     "name": "stdout",
     "output_type": "stream",
     "text": [
      "Set parameter TokenServer to value \"dev.cma.mines-paristech.fr\"\n"
     ]
    }
   ],
   "source": [
    "import gurobipy as gp\n",
    "import pandas as pd\n",
    "import numpy as np\n",
    "from gurobipy import Model\n",
    "model = Model ( \"Projet\" )\n",
    "model.modelSense = gp.GRB.MINIMIZE\n",
    "#Périodes\n",
    "\n",
    "\n",
    "Periodes, dur, d = gp.multidict( {\n",
    "    0: [6, 15000],\n",
    "    1: [3, 30000],\n",
    "    2: [6, 25000],\n",
    "    3: [3, 40000],\n",
    "    4: [6, 27000], } )\n"
   ]
  },
  {
   "cell_type": "markdown",
   "id": "3c0e72ac",
   "metadata": {},
   "source": [
    "### Centrales"
   ]
  },
  {
   "cell_type": "raw",
   "id": "46c121ac",
   "metadata": {},
   "source": [
    "#Centrales modèle\n",
    "TYPE, nbT, Pmin, Pmax, cst, Cstart, Cbase = gp.multidict( {\n",
    "    'A': [12, 850, 2000, 2.0, 2000, 1000],\n",
    "    'B': [10, 1250,1750, 1.3, 1000, 2600],\n",
    "    'C': [5, 1500, 4000, 3.0, 500, 3000], } )"
   ]
  },
  {
   "cell_type": "markdown",
   "id": "41ed1fb9",
   "metadata": {},
   "source": [
    "### 5-1. Centrales hydroélectriques"
   ]
  },
  {
   "cell_type": "raw",
   "id": "82bc3aaf",
   "metadata": {},
   "source": [
    "#Variables modèle\n",
    "TYPE, nbT, Pmin, Pmax, cst, Cstart, Cbase, Vab, Celev = gp.multidict( {\n",
    "    'A': [12, 850, 2000, 2.0, 2000, 1000, 0, 0],\n",
    "    'B': [10, 1250,1750, 1.3, 1000, 2600, 0, 0],\n",
    "    'C': [5, 1500, 4000, 3.0, 500, 3000, 0, 0],\n",
    "    'H1': [1, 900, 900, 0, 1500, 90, 0.31, 3000],\n",
    "    'H2': [1, 1400, 1400, 0, 1200, 150, 0.47, 3000],} )"
   ]
  },
  {
   "cell_type": "markdown",
   "id": "6c65dad3",
   "metadata": {},
   "source": [
    "### 5-3. Intégration des variables des paliers de fonctionnement des centrales hydrauliques"
   ]
  },
  {
   "cell_type": "code",
   "execution_count": 2,
   "id": "9672111e",
   "metadata": {},
   "outputs": [],
   "source": [
    "C1, P1, Ab1, Cout1 = gp.multidict( {\n",
    "    0: [900.0, 0.31, 90],\n",
    "    1: [950.0, 0.33, 95],\n",
    "    2: [1000.0, 0.35, 105],\n",
    "    3: [1100.0, 0.38, 120],} )\n",
    "\n",
    "C2, P2, Ab2, Cout2 = gp.multidict( {\n",
    "    0: [1400.0, 0.47, 150],\n",
    "    1: [1500.0, 0.50,165],\n",
    "    2: [1600.0, 0.53, 185],\n",
    "    3: [1700.0, 0.56, 210],} )\n",
    "\n",
    "#Vitesse d'abaissement et coûts\n",
    "vab1 = model.addVar(lb=0, vtype=gp.GRB.CONTINUOUS)\n",
    "ct1 = model.addVar(lb=0, vtype=gp.GRB.CONTINUOUS)\n",
    "\n",
    "vab2 = model.addVar(lb=0, vtype=gp.GRB.CONTINUOUS)\n",
    "ct2 = model.addVar(lb=0, vtype=gp.GRB.CONTINUOUS)\n",
    "\n",
    "#Variables binaire choix du palier\n",
    "s1 = {(t,i): model.addVar(lb = 0,ub=1, vtype=gp.GRB.INTEGER) for t in range(len(d)) for i in range(len(C1))}\n",
    "s2 = {(t,i): model.addVar(lb = 0,ub=1, vtype=gp.GRB.INTEGER) for t in range(len(d)) for i in range(len(C1))}"
   ]
  },
  {
   "cell_type": "code",
   "execution_count": 3,
   "id": "7873ffdb",
   "metadata": {},
   "outputs": [],
   "source": [
    "#Variables modèle\n",
    "TYPE, nbT, Pmin, Pmax, cst, Cstart, Cbase, Vab, Celev = gp.multidict( {\n",
    "    'A': [12, 850, 2000, 2.0, 2000, 1000, 0, 0],\n",
    "    'B': [10, 1250,1750, 1.3, 1000, 2600, 0, 0],\n",
    "    'C': [5, 1500, 4000, 3.0, 500, 3000, 0, 0],\n",
    "    'H1': [1, 900, 1100, 0, 1500, ct1, vab1, 3000],\n",
    "    'H2': [1, 1400, 1700, 0, 1200, ct2, vab2, 3000],} )"
   ]
  },
  {
   "cell_type": "markdown",
   "id": "b4629cb0",
   "metadata": {},
   "source": [
    "# 1-1. Planification journalière"
   ]
  },
  {
   "cell_type": "markdown",
   "id": "7d1862a9",
   "metadata": {},
   "source": [
    "### Variables"
   ]
  },
  {
   "cell_type": "code",
   "execution_count": 4,
   "id": "faae78f5",
   "metadata": {},
   "outputs": [],
   "source": [
    "\n",
    "#Nombre total de centrales activées\n",
    "X = {(t,a): model.addVar(lb = 0, vtype=gp.GRB.INTEGER) for t in range(len(d)) for a in TYPE}\n",
    "\n",
    "#Coût d'activation par type\n",
    "st = {(t,a): model.addVar(lb = 0, vtype=gp.GRB.INTEGER) for t in range(len(d)) for a in TYPE}\n",
    "#Production d'énergie de chaque centrale\n",
    "PROD = {(t,a): model.addVar(lb = 0, vtype=gp.GRB.CONTINUOUS) for t in range(len(d)) for a in TYPE}\n"
   ]
  },
  {
   "cell_type": "markdown",
   "id": "5fd61218",
   "metadata": {},
   "source": [
    "## Contraintes"
   ]
  },
  {
   "cell_type": "code",
   "execution_count": 5,
   "id": "ea2cb93b",
   "metadata": {},
   "outputs": [],
   "source": [
    "#Contraintes production\n",
    "CSTR_X = {(t,a) : model.addConstr(X[t,a] <= nbT[a]) for t in range(len(d)) for a in TYPE}\n",
    "\n",
    "CSTR_min = {(t,a): model.addConstr(PROD[t,a]>= X[t,a]*Pmin[a]) for t in range(len(d)) for a in TYPE}\n",
    "\n",
    "CSTR_max = {(t,a): model.addConstr(PROD[t,a]<= X[t,a]*Pmax[a]) for t in range(len(d)) for a in TYPE}"
   ]
  },
  {
   "cell_type": "markdown",
   "id": "7f11da00",
   "metadata": {},
   "source": [
    "### Contrainte de puissance (variable)"
   ]
  },
  {
   "cell_type": "raw",
   "id": "852a4527",
   "metadata": {},
   "source": [
    "CSTR_P = {i: model.addLConstr(sum(PROD[i,a] for a in TYPE ) >= d[i]) for i in range(len(d))}"
   ]
  },
  {
   "cell_type": "markdown",
   "id": "397eae10",
   "metadata": {},
   "source": [
    "### 3-1. Réserve de puissance"
   ]
  },
  {
   "cell_type": "code",
   "execution_count": 6,
   "id": "496122c0",
   "metadata": {},
   "outputs": [],
   "source": [
    "#Réserve de puissance\n",
    "CSTR_rp = {(t): model.addConstr(sum(PROD[t,a] for a in TYPE) <= 0.85*sum(X[t,a]*Pmax[a] for a in TYPE)) for t in range(5)}\n"
   ]
  },
  {
   "cell_type": "markdown",
   "id": "d885f3f6",
   "metadata": {},
   "source": [
    "### 4-1. Option cyclique"
   ]
  },
  {
   "cell_type": "code",
   "execution_count": 7,
   "id": "4c977e7f",
   "metadata": {},
   "outputs": [],
   "source": [
    "option = 1\n",
    "#Fonction cyclique\n",
    "def prev(per,opt):\n",
    "    r=per\n",
    "    if opt == 0:\n",
    "        return(r)\n",
    "    else :\n",
    "        return(r-1)\n",
    "    \n",
    "#Contraintes sur le nombre de centrales considéré au début de chaque journée\n",
    "if option == 0:\n",
    "    CSTR_st = {(a): model.addConstr(st[0,a] >= X[0,a] ) for a in TYPE}\n",
    "    CSTR_st1 = {(t,a): model.addConstr(st[t,a] >= X[t,a]-X[prev(Periodes[t],option),a]) for t in range(1,len(d)) for a in TYPE}\n",
    "else:\n",
    "    CSTR_st = {(a): model.addConstr(st[0,a] >= X[0,a]-X[4,a] ) for a in TYPE} \n",
    "    CSTR_st1 = {(t,a): model.addConstr(st[t,a] >= X[t,a]-X[prev(Periodes[t],option),a]) for t in range(1,len(d)) for a in TYPE}\n"
   ]
  },
  {
   "cell_type": "markdown",
   "id": "b0d58eff",
   "metadata": {},
   "source": [
    "## 5-2. Pompage (Variable et contrainte)"
   ]
  },
  {
   "cell_type": "code",
   "execution_count": 8,
   "id": "259b7ac3",
   "metadata": {},
   "outputs": [],
   "source": [
    "#Quantité d'eau absorbée\n",
    "H = {(t): model.addVar(lb = 0, vtype=gp.GRB.CONTINUOUS) for t in range(len(d))}\n",
    "\n",
    "#Equilibre de la quantité d'eau\n",
    "CSTR_H = model.addConstr(sum(H[t] for t in range(len(d))) >= sum(X[t,a]*dur[t]*Vab[a] for t in range(len(d)) for a in TYPE))\n",
    "\n",
    "#Nouvelle contrainte de puissance\n",
    "#CSTR_P = {(t,i): model.addConstr(sum(PROD[i,a] for a in TYPE ) >= d[i]+H[i]*Celev[t]/dur[i]) for i in range(len(d)) for t in TYPE}\n"
   ]
  },
  {
   "cell_type": "markdown",
   "id": "928db4b3",
   "metadata": {},
   "source": [
    "## 5-3. Contraintes paliers de fonctionnement et variables binaires"
   ]
  },
  {
   "cell_type": "code",
   "execution_count": 9,
   "id": "411c56c9",
   "metadata": {},
   "outputs": [],
   "source": [
    "#Contrainte unicité du choix\n",
    "CSTR_s1 = {(t,a): model.addConstr(sum(s1[t,a] for a in C1)<=1) for t in range(len(d)) for a in TYPE}\n",
    "CSTR_s2 = {(t,a): model.addConstr(sum(s2[t,a] for a in C1)<=1) for t in range(len(d)) for a in TYPE}\n",
    "\n",
    "#-------------------------H1\n",
    "CSTR_ph1 = {(t): model.addConstr(PROD[t,'H1']== sum(s1[t,j]*P1[j] for j in range(len(P1))) ) for t in range(len(d))}\n",
    "CSTR_ab1 = {(t): model.addConstr(vab1 == sum(s1[t,j]*Ab1[j] for j in range(len(P1))) ) for t in range(len(d))}\n",
    "CSTR_cs1 = {(t): model.addConstr(ct1 == sum(s1[t,j]*Cout1[j] for j in range(len(P1))) ) for t in range(len(d))}\n",
    "\n",
    "#-------------------------H2\n",
    "CSTR_ph2 = {(t): model.addConstr(PROD[t,'H2']== sum(s2[t,j]*P2[j] for j in range(len(P1))) ) for t in range(len(d))}\n",
    "CSTR_ab2 = {(t): model.addConstr(vab2 == sum(s2[t,j]*Ab2[j] for j in range(len(P1))) ) for t in range(len(d))}\n",
    "CSTR_cs2 = {(t): model.addConstr(ct2 == sum(s2[t,j]*Cout2[j] for j in range(len(P1))) ) for t in range(len(d))}\n",
    "\n",
    "\n",
    "#Nouvelle contrainte de puissance\n",
    "CSTR_P = {(t,i): model.addConstr(sum(PROD[i,a] for a in TYPE ) >= d[i]+H[i]*Celev[t]/dur[i]) for i in range(len(d)) for t in TYPE}\n"
   ]
  },
  {
   "cell_type": "markdown",
   "id": "3614afe7",
   "metadata": {},
   "source": [
    "## 2-1. Modèle Cbase et Cmwh"
   ]
  },
  {
   "cell_type": "raw",
   "id": "131788e2",
   "metadata": {},
   "source": [
    "model.setObjective(sum(X[j,i]*dur[j]*Cbase[i]+dur[j]*cst[i]*(PROD[j,i]-X[j,i]*Pmin[i]) \n",
    "                      for i in TYPE \n",
    "                      for j in range(len(d))),gp.GRB.MINIMIZE)\n",
    "model.update()\n",
    "model.optimize()        \n"
   ]
  },
  {
   "cell_type": "markdown",
   "id": "1bdf284d",
   "metadata": {},
   "source": [
    "## 2-2. Modèle Cbase, Cmwh et Cstart"
   ]
  },
  {
   "cell_type": "code",
   "execution_count": 10,
   "id": "bb378122",
   "metadata": {},
   "outputs": [
    {
     "name": "stdout",
     "output_type": "stream",
     "text": [
      "Gurobi Optimizer version 9.5.2 build v9.5.2rc0 (win64)\n",
      "Thread count: 4 physical cores, 8 logical processors, using up to 8 threads\n",
      "Optimize a model with 210 rows, 124 columns and 735 nonzeros\n",
      "Model fingerprint: 0xa07b2fc0\n",
      "Model has 10 quadratic objective terms\n",
      "Model has 1 quadratic constraint\n",
      "Variable types: 34 continuous, 90 integer (0 binary)\n",
      "Coefficient statistics:\n",
      "  Matrix range     [3e-01, 4e+03]\n",
      "  QMatrix range    [3e+00, 6e+00]\n",
      "  QLMatrix range   [1e+00, 1e+00]\n",
      "  Objective range  [4e+00, 9e+03]\n",
      "  QObjective range [6e+00, 1e+01]\n",
      "  Bounds range     [1e+00, 1e+00]\n",
      "  RHS range        [1e+00, 4e+04]\n",
      "Presolve removed 143 rows and 58 columns\n",
      "Presolve time: 0.00s\n",
      "Presolved: 72 rows, 70 columns, 264 nonzeros\n",
      "Variable types: 24 continuous, 46 integer (10 binary)\n",
      "Found heuristic solution: objective 1300825.0000\n",
      "\n",
      "Root relaxation: objective 9.228966e+05, 39 iterations, 0.00 seconds (0.00 work units)\n",
      "\n",
      "    Nodes    |    Current Node    |     Objective Bounds      |     Work\n",
      " Expl Unexpl |  Obj  Depth IntInf | Incumbent    BestBd   Gap | It/Node Time\n",
      "\n",
      "     0     0 922896.639    0   14 1300825.00 922896.639  29.1%     -    0s\n",
      "H    0     0                    989330.00000 922896.639  6.71%     -    0s\n",
      "H    0     0                    987830.00000 985161.272  0.27%     -    0s\n",
      "H    0     0                    987746.00000 985161.272  0.26%     -    0s\n",
      "     0     0 986058.543    0   19 987746.000 986058.543  0.17%     -    0s\n",
      "H    0     0                    987628.00000 986058.543  0.16%     -    0s\n",
      "     0     0 986613.782    0   13 987628.000 986613.782  0.10%     -    0s\n",
      "     0     0 986656.996    0   13 987628.000 986656.996  0.10%     -    0s\n",
      "H    0     0                    986980.00000 986656.996  0.03%     -    0s\n",
      "H    0     0                    986860.00000 986832.332  0.00%     -    0s\n",
      "     0     0 986852.500    0   19 986860.000 986852.500  0.00%     -    0s\n",
      "\n",
      "Cutting planes:\n",
      "  Gomory: 5\n",
      "  MIR: 14\n",
      "\n",
      "Explored 1 nodes (78 simplex iterations) in 0.04 seconds (0.00 work units)\n",
      "Thread count was 8 (of 8 available processors)\n",
      "\n",
      "Solution count 7: 986860 986980 987628 ... 1.30082e+06\n",
      "\n",
      "Optimal solution found (tolerance 1.00e-04)\n",
      "Best objective 9.868600000000e+05, best bound 9.868525000000e+05, gap 0.0008%\n",
      "_________________\n",
      "Variables  : 124\n",
      "Contraintes: 210\n",
      "_________________\n",
      "Coût total: 986860.0\n"
     ]
    }
   ],
   "source": [
    "#Modèle\n",
    "model.setObjective(sum(X[j,i]*dur[j]*Cbase[i] + dur[j]*cst[i]*(PROD[j,i]-X[j,i]*Pmin[i])+st[j,i]*Cstart[i] \n",
    "                      for i in TYPE \n",
    "                      for j in range(len(d))),gp.GRB.MINIMIZE)\n",
    "    \n",
    "model.update()\n",
    "model.optimize()        \n",
    "\n",
    "#Résultats\n",
    "print('_________________')\n",
    "\n",
    "print('Variables  :', model.numVars)\n",
    "print('Contraintes:', model.numConstrs)\n",
    "print('_________________')\n",
    "\n",
    "print('Coût total:', round(model.objVal, 2))\n"
   ]
  },
  {
   "cell_type": "code",
   "execution_count": null,
   "id": "04d49613",
   "metadata": {},
   "outputs": [],
   "source": []
  },
  {
   "cell_type": "code",
   "execution_count": 34,
   "id": "83866861",
   "metadata": {},
   "outputs": [
    {
     "data": {
      "text/plain": [
       "<Figure size 432x288 with 0 Axes>"
      ]
     },
     "metadata": {},
     "output_type": "display_data"
    },
    {
     "data": {
      "image/png": "[encoded data removed]",
      "text/plain": [
       "<Figure size 432x288 with 1 Axes>"
      ]
     },
     "metadata": {
      "needs_background": "light"
     },
     "output_type": "display_data"
    }
   ],
   "source": [
    "import numpy as np\n",
    "import matplotlib.pyplot as plt\n",
    "\n",
    "dict_al = {t : [int(X[p,t].x) for p in Periodes] for t in TYPE}\n",
    "df_al = pd.DataFrame(dict_centrales_allumees)\n",
    "\n",
    "plt.figure()\n",
    "df_al.plot(kind='hist', stacked=True)\n",
    "plt.title(\"Centrales actives\")\n",
    "plt.xticks(rotation=0)\n",
    "plt.xlabel(\"Indice de la période\")\n",
    "plt.ylabel('Nombre de centrales')\n",
    "plt.savefig('Centrales actives')\n",
    "plt.show()\n",
    "\n",
    "plt.show()"
   ]
  },
  {
   "cell_type": "code",
   "execution_count": null,
   "id": "5f5f8b57",
   "metadata": {},
   "outputs": [],
   "source": []
  }
 ],
 "metadata": {
  "kernelspec": {
   "display_name": "Python 3 (ipykernel)",
   "language": "python",
   "name": "python3"
  },
  "language_info": {
   "codemirror_mode": {
    "name": "ipython",
    "version": 3
   },
   "file_extension": ".py",
   "mimetype": "text/x-python",
   "name": "python",
   "nbconvert_exporter": "python",
   "pygments_lexer": "ipython3",
   "version": "3.9.12"
  }
 },
 "nbformat": 4,
 "nbformat_minor": 5
}
